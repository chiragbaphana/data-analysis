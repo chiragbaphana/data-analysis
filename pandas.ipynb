{
 "cells": [
  {
   "cell_type": "code",
   "execution_count": 137,
   "metadata": {},
   "outputs": [
    {
     "name": "stdout",
     "output_type": "stream",
     "text": [
      "Numpy data representation \n",
      " ['1' '2' '3' '4' '5']\n",
      "Pandas data representation \n",
      " 0    1\n",
      "1    2\n",
      "2    3\n",
      "3    4\n",
      "4    5\n",
      "dtype: object\n"
     ]
    }
   ],
   "source": [
    "#     Chirag\n",
    "import pandas as pd\n",
    "import numpy as np\n",
    "list1=['1','2','3','4','5']\n",
    "data=np.array(list1)\n",
    "s=pd.Series(data)\n",
    "\n",
    "print(\"Numpy data representation \\n\",data )\n",
    "\n",
    "print(\"Pandas data representation \\n\",s )"
   ]
  },
  {
   "cell_type": "code",
   "execution_count": 10,
   "metadata": {},
   "outputs": [
    {
     "name": "stdout",
     "output_type": "stream",
     "text": [
      "100    a\n",
      "101    b\n",
      "102    c\n",
      "103    d\n",
      "dtype: object\n"
     ]
    }
   ],
   "source": [
    "import pandas as pd\n",
    "import numpy as np\n",
    "f =np.array(['a','b','c','d'])\n",
    "s=pd.Series(f,index=[100,101,102,103])\n",
    "print(s)\n",
    "\n"
   ]
  },
  {
   "cell_type": "code",
   "execution_count": 1,
   "metadata": {},
   "outputs": [
    {
     "name": "stdout",
     "output_type": "stream",
     "text": [
      "b      1\n",
      "c      2\n",
      "d    NaN\n",
      "a      0\n",
      "dtype: object\n"
     ]
    }
   ],
   "source": [
    "import pandas as pd\n",
    "data= {'a':'0','b':'1','c':'2'}\n",
    "s=pd.Series(data,index=['b','c','d','a'])\n",
    "print(s)"
   ]
  },
  {
   "cell_type": "code",
   "execution_count": 20,
   "metadata": {},
   "outputs": [
    {
     "name": "stdout",
     "output_type": "stream",
     "text": [
      "0    5\n",
      "1    5\n",
      "2    5\n",
      "3    5\n",
      "4    5\n",
      "5    5\n",
      "dtype: int64\n"
     ]
    }
   ],
   "source": [
    "import pandas as pd\n",
    "s=pd.Series(5,index=[0,1,2,3,4,5])\n",
    "print(s)\n"
   ]
  },
  {
   "cell_type": "code",
   "execution_count": 46,
   "metadata": {},
   "outputs": [
    {
     "name": "stdout",
     "output_type": "stream",
     "text": [
      "a    1\n",
      "b    2\n",
      "c    3\n",
      "dtype: int64\n"
     ]
    }
   ],
   "source": [
    "import pandas as pd\n",
    "s=pd.Series([1,2,3,4,5],index=['a','b','c','d','e'])\n",
    "#retrieve the first 3 elements\n",
    "print(s[:3])"
   ]
  },
  {
   "cell_type": "code",
   "execution_count": 48,
   "metadata": {},
   "outputs": [
    {
     "name": "stdout",
     "output_type": "stream",
     "text": [
      "c    3\n",
      "d    4\n",
      "dtype: int64\n"
     ]
    }
   ],
   "source": [
    "print(s[-3:- 1])"
   ]
  },
  {
   "cell_type": "code",
   "execution_count": 58,
   "metadata": {},
   "outputs": [
    {
     "name": "stdout",
     "output_type": "stream",
     "text": [
      "[3, 4, 5]\n"
     ]
    }
   ],
   "source": [
    "list1=[1,2,3,4,5]\n",
    "print(list1[2:])"
   ]
  },
  {
   "cell_type": "code",
   "execution_count": 62,
   "metadata": {},
   "outputs": [
    {
     "name": "stdout",
     "output_type": "stream",
     "text": [
      "1 2 3\n",
      "15\n"
     ]
    }
   ],
   "source": [
    "import pandas as pd\n",
    "s=pd.Series([1,2,3,4,5],index=['a','b','c','d','e'])\n",
    "#retrieve a single element using label index\n",
    "print(s['a'],s['b'],s['c'])\n",
    "mul=(s['c']* s['e'])\n",
    "print(mul)"
   ]
  },
  {
   "cell_type": "code",
   "execution_count": 69,
   "metadata": {},
   "outputs": [
    {
     "name": "stdout",
     "output_type": "stream",
     "text": [
      "a    1\n",
      "b    2\n",
      "c    3\n",
      "d    4\n",
      "e    5\n",
      "dtype: int64\n",
      "a    1\n",
      "c    3\n",
      "e    5\n",
      "dtype: int64\n"
     ]
    }
   ],
   "source": [
    "import pandas as pd\n",
    "s=pd.Series([1,2,3,4,5],index=['a','b','c','d','e'])\n",
    "print(s)\n",
    "#retrieve multiple elements using a list of index values\n",
    "print(s[['a','c','e']])\n"
   ]
  },
  {
   "cell_type": "code",
   "execution_count": 71,
   "metadata": {},
   "outputs": [
    {
     "name": "stdout",
     "output_type": "stream",
     "text": [
      "0    1\n",
      "1    2\n",
      "2    3\n",
      "3    4\n",
      "4    5\n",
      "dtype: int64\n",
      "   0\n",
      "0  1\n",
      "1  2\n",
      "2  3\n",
      "3  4\n",
      "4  5\n"
     ]
    }
   ],
   "source": [
    "import pandas as pd \n",
    "data= [1,2,3,4,5]\n",
    "sf= pd.Series(data)\n",
    "df=pd.DataFrame(data)\n",
    "print(sf)\n",
    "print(df)"
   ]
  },
  {
   "cell_type": "code",
   "execution_count": 75,
   "metadata": {},
   "outputs": [
    {
     "name": "stdout",
     "output_type": "stream",
     "text": [
      "   Name  Age\n",
      "0  Alex   10\n",
      "1   Bob   20\n",
      "2   Sam   30\n"
     ]
    }
   ],
   "source": [
    "import pandas as pd\n",
    "data= [['Alex',10],['Bob',20],['Sam',30]]\n",
    "df= pd.DataFrame(data,columns=['Name','Age'])\n",
    "print(df)"
   ]
  },
  {
   "cell_type": "code",
   "execution_count": 81,
   "metadata": {},
   "outputs": [
    {
     "name": "stdout",
     "output_type": "stream",
     "text": [
      "  Sr.No     Name           PRN        Class\n",
      "0    01   Chirag  220105232021  B.Tech AIML\n",
      "1    02  Shubham  220105232022  B.Tech AIML\n",
      "2    03   Roshan  220105232012  B.Tech AIML\n"
     ]
    }
   ],
   "source": [
    "import pandas as pd\n",
    "data= [['01','Chirag','220105232021','B.Tech AIML'],\n",
    "       ['02','Shubham','220105232022','B.Tech AIML'],\n",
    "       ['03','Roshan','220105232012','B.Tech AIML']]\n",
    "df=pd.DataFrame(data,columns=['Sr.No','Name','PRN','Class'])\n",
    "print(df)"
   ]
  },
  {
   "cell_type": "code",
   "execution_count": 94,
   "metadata": {},
   "outputs": [
    {
     "name": "stdout",
     "output_type": "stream",
     "text": [
      "    Name  Age\n",
      "0    Tom   22\n",
      "1  Steve   35\n",
      "2  Ricky   18\n"
     ]
    }
   ],
   "source": [
    "\n",
    "data= {'Name':['Tom','Steve','Ricky'],\n",
    "       'Age':[22,35,18,]}\n",
    "df=pd.DataFrame(data)\n",
    "print(df)"
   ]
  },
  {
   "cell_type": "code",
   "execution_count": 96,
   "metadata": {},
   "outputs": [
    {
     "name": "stdout",
     "output_type": "stream",
     "text": [
      "        Name  Age\n",
      "rank1    Tom   22\n",
      "rank2  Steve   35\n",
      "rank3  Ricky   18\n"
     ]
    }
   ],
   "source": [
    "data= {'Name':['Tom','Steve','Ricky'],\n",
    "       'Age':[22,35,18,]}\n",
    "df=pd.DataFrame(data,index=['rank1','rank2','rank3'])\n",
    "print(df)"
   ]
  },
  {
   "cell_type": "markdown",
   "metadata": {},
   "source": [
    "# CREATE A DATAFRAME FROM LIST OF DICTS\n",
    "\n"
   ]
  },
  {
   "cell_type": "code",
   "execution_count": 99,
   "metadata": {
    "scrolled": true
   },
   "outputs": [
    {
     "name": "stdout",
     "output_type": "stream",
     "text": [
      "   a   b     c\n",
      "0  1   2   NaN\n",
      "1  5  10  20.0\n"
     ]
    }
   ],
   "source": [
    "data=[{'a':1, 'b':2}, {'a':5,'b':10,'c':20}]\n",
    "df=pd.DataFrame(data)\n",
    "print(df)"
   ]
  },
  {
   "cell_type": "code",
   "execution_count": 107,
   "metadata": {},
   "outputs": [
    {
     "name": "stdout",
     "output_type": "stream",
     "text": [
      "   one  two\n",
      "a    1    1\n",
      "b    2    2\n",
      "c    3    3\n",
      "d    4    4\n"
     ]
    }
   ],
   "source": [
    "d={'one':pd.Series([1,2,3,4],index=['a','b','c','d']),\n",
    "'two':pd.Series([1,2,3,4],index=['a','b','c','d'])}\n",
    "df= pd.DataFrame(d)\n",
    "print(df)"
   ]
  },
  {
   "cell_type": "code",
   "execution_count": 128,
   "metadata": {},
   "outputs": [
    {
     "name": "stdout",
     "output_type": "stream",
     "text": [
      "our dataframe is\n",
      "   one  two  three\n",
      "a    1    1   10.0\n",
      "b    2    2   20.0\n",
      "c    3    3   30.0\n",
      "d    4    4    NaN\n",
      "Deleting the first column using del function\n",
      "   two  three\n",
      "a    1   10.0\n",
      "b    2   20.0\n",
      "c    3   30.0\n",
      "d    4    NaN\n",
      "Deleting another column using pop function\n",
      "   three\n",
      "a   10.0\n",
      "b   20.0\n",
      "c   30.0\n",
      "d    NaN\n"
     ]
    }
   ],
   "source": [
    "d={'one':pd.Series([1,2,3,4],index=['a','b','c','d']),\n",
    "   'two':pd.Series([1,2,3,4],index=['a','b','c','d']), \n",
    "   'three':pd.Series([10,20,30],index=['a','b','c'])}\n",
    "df=pd.DataFrame(d)\n",
    "print(\"our dataframe is\")\n",
    "print(df)\n",
    "print(\"Deleting the first column using del function\")\n",
    "del df['one']\n",
    "print(df)\n",
    "print('Deleting another column using pop function')\n",
    "df.pop('two')\n",
    "print(df)\n",
    "\n"
   ]
  },
  {
   "cell_type": "code",
   "execution_count": 134,
   "metadata": {},
   "outputs": [
    {
     "name": "stdout",
     "output_type": "stream",
     "text": [
      "   one  two  three\n",
      "c    3    3   30.0\n",
      "d    4    4    NaN\n"
     ]
    }
   ],
   "source": [
    "d={'one':pd.Series([1,2,3,4],index=['a','b','c','d']),\n",
    "   'two':pd.Series([1,2,3,4],index=['a','b','c','d']), \n",
    "   'three':pd.Series([10,20,30],index=['a','b','c'])}\n",
    "df=pd.DataFrame(d)\n",
    "print(df[2:4])\n",
    "#multiple rows can be selected using : operator"
   ]
  },
  {
   "cell_type": "code",
   "execution_count": 138,
   "metadata": {},
   "outputs": [
    {
     "name": "stdout",
     "output_type": "stream",
     "text": [
      "one       2.0\n",
      "two       2.0\n",
      "three    20.0\n",
      "Name: b, dtype: float64\n"
     ]
    }
   ],
   "source": [
    "d={'one':pd.Series([1,2,3,4],index=['a','b','c','d']),\n",
    "   'two':pd.Series([1,2,3,4],index=['a','b','c','d']), \n",
    "   'three':pd.Series([10,20,30],index=['a','b','c'])}\n",
    "df=pd.DataFrame(d)\n",
    "print(df.loc['b'])"
   ]
  }
 ],
 "metadata": {
  "kernelspec": {
   "display_name": "Python 3",
   "language": "python",
   "name": "python3"
  },
  "language_info": {
   "codemirror_mode": {
    "name": "ipython",
    "version": 3
   },
   "file_extension": ".py",
   "mimetype": "text/x-python",
   "name": "python",
   "nbconvert_exporter": "python",
   "pygments_lexer": "ipython3",
   "version": "3.7.0"
  }
 },
 "nbformat": 4,
 "nbformat_minor": 2
}
